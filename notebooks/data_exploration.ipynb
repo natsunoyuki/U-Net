{
 "cells": [
  {
   "cell_type": "code",
   "execution_count": null,
   "metadata": {},
   "outputs": [],
   "source": [
    "from pathlib import Path\n",
    "import matplotlib.pyplot as plt\n",
    "import numpy as np\n",
    "from PIL import Image"
   ]
  },
  {
   "cell_type": "code",
   "execution_count": null,
   "metadata": {},
   "outputs": [],
   "source": [
    "configs = {\n",
    "    \"data_dir\": \"../data/forest_segmentation/\",\n",
    "    \"train_image_folder\": \"train_images\",\n",
    "    \"train_mask_folder\": \"train_masks\",\n",
    "    \"test_image_folder\": \"test_images\",\n",
    "    \"test_mask_folder\": \"test_masks\",\n",
    "}\n",
    "\n",
    "data_dir = configs.get(\"data_dir\", None)\n",
    "train_image_folder = configs.get(\"train_image_folder\", \"train_images\")\n",
    "train_mask_folder = configs.get(\"train_mask_folder\", \"train_masks\")\n",
    "test_image_folder = configs.get(\"test_image_folder\", \"test_images\")\n",
    "test_mask_folder = configs.get(\"test_mask_folder\", \"test_masks\")\n",
    "\n",
    "data_dir = Path(data_dir)"
   ]
  },
  {
   "cell_type": "code",
   "execution_count": null,
   "metadata": {},
   "outputs": [],
   "source": [
    "train_mask_list = sorted([f for f in (data_dir / train_mask_folder).iterdir() if not f.name.startswith(\".\")])\n",
    "test_mask_list = sorted([f for f in (data_dir / test_mask_folder).iterdir() if not f.name.startswith(\".\")])"
   ]
  },
  {
   "cell_type": "code",
   "execution_count": null,
   "metadata": {},
   "outputs": [],
   "source": [
    "N_0 = 0\n",
    "N_1 = 0\n",
    "for f in train_mask_list:\n",
    "    img = np.round(np.array(Image.open(f).convert(\"L\")) / 255.0)\n",
    "    N_0 += np.sum(img == 0)\n",
    "    N_1 += np.sum(img == 1)"
   ]
  },
  {
   "cell_type": "code",
   "execution_count": null,
   "metadata": {},
   "outputs": [],
   "source": [
    "print(N_0 / (N_0 + N_1), N_1 / (N_0 + N_1))"
   ]
  }
 ],
 "metadata": {
  "kernelspec": {
   "display_name": "venv",
   "language": "python",
   "name": "python3"
  },
  "language_info": {
   "codemirror_mode": {
    "name": "ipython",
    "version": 3
   },
   "file_extension": ".py",
   "mimetype": "text/x-python",
   "name": "python",
   "nbconvert_exporter": "python",
   "pygments_lexer": "ipython3",
   "version": "3.11.11"
  }
 },
 "nbformat": 4,
 "nbformat_minor": 2
}
